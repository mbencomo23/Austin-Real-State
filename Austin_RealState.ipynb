{
 "cells": [
  {
   "cell_type": "markdown",
   "id": "automotive-marking",
   "metadata": {},
   "source": [
    "# Austin, TX - Real State"
   ]
  },
  {
   "cell_type": "markdown",
   "id": "confused-hearts",
   "metadata": {},
   "source": [
    "## Introduction"
   ]
  },
  {
   "cell_type": "markdown",
   "id": "earned-procurement",
   "metadata": {},
   "source": [
    "Over the past ten years the city of Austin, TX went from being the 14th to the 11th most populous city in the United States. This growth is largely in part to the tech market which has grown by 25% over the past five years, making Austin the home to many tech giants, including Google, Facebook, Oracle, and Apple. This growth has also impacted surrounding areas like New Braunfels, Cedar Park and Round Rock.\n",
    "As the region grows, it is predicted between 3 and 4 million people will live in the 4 metro areas by 2040. Housing is expected to become more expensive and more compact as the population continues to grow."
   ]
  },
  {
   "cell_type": "markdown",
   "id": "eastern-gibson",
   "metadata": {},
   "source": [
    "## Bussiness Problem"
   ]
  },
  {
   "cell_type": "markdown",
   "id": "responsible-brother",
   "metadata": {},
   "source": [
    "Finding and purchasing a house is already a complicated process that involves a lot of variables. Some of those variables are price, which requires research through different websites and/or real state agents; location, the house should be in a good neighborhood with great gathering spots, parks, shops and a good school district. For this project we will look at real state data from Austin and it's surrounding areas to determine good deals for potential buyers  in this growing regions based on their requirements. "
   ]
  },
  {
   "cell_type": "markdown",
   "id": "sufficient-finder",
   "metadata": {},
   "source": [
    "## Data"
   ]
  },
  {
   "cell_type": "markdown",
   "id": "inside-packet",
   "metadata": {},
   "source": [
    "The data needed for this project will include:\n",
    "1. Zillow website data. Using the API from this real state website we can gather information about house prices, location, school districts, etc. \n",
    "2. FourSquare data. Using FourSquare API we can get information on the neighborhoods, including shops, restaurants, and venues around them.\n",
    "3. Wikipedia. Use this website to gather information about the city of Austin and its surrounding areas."
   ]
  },
  {
   "cell_type": "code",
   "execution_count": null,
   "id": "charitable-aircraft",
   "metadata": {},
   "outputs": [],
   "source": []
  }
 ],
 "metadata": {
  "kernelspec": {
   "display_name": "Python 3",
   "language": "python",
   "name": "python3"
  },
  "language_info": {
   "codemirror_mode": {
    "name": "ipython",
    "version": 3
   },
   "file_extension": ".py",
   "mimetype": "text/x-python",
   "name": "python",
   "nbconvert_exporter": "python",
   "pygments_lexer": "ipython3",
   "version": "3.9.1"
  }
 },
 "nbformat": 4,
 "nbformat_minor": 5
}
